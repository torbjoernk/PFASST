{
 "cells": [
  {
   "cell_type": "code",
   "execution_count": 1,
   "metadata": {
    "collapsed": false
   },
   "outputs": [
    {
     "name": "stdout",
     "output_type": "stream",
     "text": [
      "Populating the interactive namespace from numpy and matplotlib\n"
     ]
    }
   ],
   "source": [
    "import numpy as np\n",
    "import pandas as pd\n",
    "%pylab inline\n",
    "\n",
    "import os\n",
    "import pathlib\n",
    "PFASST_TOOLS_PATH = str(pathlib.Path(os.getcwd()).parent.parent / 'tools')\n",
    "sys.path.append(PFASST_TOOLS_PATH)\n",
    "import pfasst_py\n",
    "\n",
    "base_path = pfasst_py.PFASST_RUN_DIR + \"/juqueen\""
   ]
  },
  {
   "cell_type": "code",
   "execution_count": 2,
   "metadata": {
    "collapsed": false
   },
   "outputs": [
    {
     "name": "stdout",
     "output_type": "stream",
     "text": [
      "gathering in base path '/home/t.klatt/projects/PFASST/run/juqueen/mpi_pfasst_scale'\n",
      "  - 25630ea9d9d6e7e0005151046ac44f5a3bef9742\n",
      "      np        : 1\n",
      "      cpn       : 1\n",
      "      duration  : 0 days 00:14:51.999490\n",
      "  - c6f10c0610f7d4d4b3bbef4c9c9903c1bdff0505\n",
      "      np        : 2\n",
      "      cpn       : 2\n",
      "      duration  : 0 days 00:06:07.000538\n",
      "  - 368181a4fe82db157911844b3d21a57c26f7be95\n",
      "      np        : 4\n",
      "      cpn       : 4\n",
      "      duration  : 0 days 00:03:57.000244\n",
      "  - f7437c9406e0911e9e42d853ce337be1f017766f\n",
      "      np        : 8\n",
      "      cpn       : 8\n",
      "      duration  : 0 days 00:09:23.999518\n",
      "  - afeeea92001ab4e9cd6b2650bff38aff409665ce\n",
      "      np        : 16\n",
      "      cpn       : 16\n",
      "      duration  : 0 days 00:13:08.999942\n",
      "  - 46fff803cd56164355386c159fb82bcf7f715ba2\n",
      "      np        : 128\n",
      "      cpn       : 16\n",
      "      duration  : 0 days 00:01:41.999143\n",
      "  - 82450145aaed730a798b39420893dd0c0fc6635d\n",
      "      np        : 32\n",
      "      cpn       : 16\n",
      "      duration  : 0 days 00:07:08.000478\n",
      "  - b3d5fecb3fc7460429fc548a688c2876f8ad3e95\n",
      "      np        : 512\n",
      "      cpn       : 16\n",
      "      duration  : 0 days 00:01:05.999900\n",
      "  - bf6e248ce766ebceab00bb260e6ffb10183a0a4d\n",
      "      np        : 64\n",
      "      cpn       : 16\n",
      "      duration  : 0 days 00:03:25.000197\n",
      "  - eada6df2e42604069f18fe4fe0ba3047d1392b50\n",
      "      np        : 256\n",
      "      cpn       : 16\n",
      "      duration  : 0 days 00:01:07.000021\n",
      "pickling into: '/home/t.klatt/projects/PFASST/run/juqueen/mpi_pfasst_scale/cores1-512.pickle'\n"
     ]
    }
   ],
   "source": [
    "obj = pfasst_py.ScaleStudy(base_path + '/mpi_pfasst_scale',\n",
    "                           pfasst_py.AdvecDiffDataPattern).gather().pickle('cores1-512')"
   ]
  },
  {
   "cell_type": "code",
   "execution_count": 3,
   "metadata": {
    "collapsed": false
   },
   "outputs": [
    {
     "name": "stdout",
     "output_type": "stream",
     "text": [
      "   cpn        duration   np\n",
      "0    1 00:14:51.999490    1\n",
      "1    2 00:06:07.000538    2\n",
      "2    4 00:03:57.000244    4\n",
      "3    8 00:09:23.999518    8\n",
      "4   16 00:13:08.999942   16\n",
      "6   16 00:07:08.000478   32\n",
      "8   16 00:03:25.000197   64\n",
      "5   16 00:01:41.999143  128\n",
      "9   16 00:01:07.000021  256\n",
      "7   16 00:01:05.999900  512\n"
     ]
    },
    {
     "data": {
      "image/png": "[encoded data removed]",
      "text/plain": [
       "<matplotlib.figure.Figure at 0x7f909b1accf8>"
      ]
     },
     "metadata": {},
     "output_type": "display_data"
    }
   ],
   "source": [
    "obj.plot_np_vs_duration()"
   ]
  },
  {
   "cell_type": "code",
   "execution_count": 4,
   "metadata": {
    "collapsed": false
   },
   "outputs": [
    {
     "data": {
      "text/html": [
       "<div style=\"max-height:1000px;max-width:1500px;overflow:auto;\">\n",
       "<table border=\"1\" class=\"dataframe\">\n",
       "  <thead>\n",
       "    <tr style=\"text-align: right;\">\n",
       "      <th></th>\n",
       "      <th>cpn</th>\n",
       "      <th>dir</th>\n",
       "      <th>duration</th>\n",
       "      <th>np</th>\n",
       "      <th>parser_set</th>\n",
       "    </tr>\n",
       "  </thead>\n",
       "  <tbody>\n",
       "    <tr>\n",
       "      <th>0</th>\n",
       "      <td>1</td>\n",
       "      <td>25630ea9d9d6e7e0005151046ac44f5a3bef9742</td>\n",
       "      <td>00:14:51.999490</td>\n",
       "      <td>1</td>\n",
       "      <td>&lt;pfasst_py.parse_log.LogParserSet object at 0x...</td>\n",
       "    </tr>\n",
       "    <tr>\n",
       "      <th>1</th>\n",
       "      <td>2</td>\n",
       "      <td>c6f10c0610f7d4d4b3bbef4c9c9903c1bdff0505</td>\n",
       "      <td>00:06:07.000538</td>\n",
       "      <td>2</td>\n",
       "      <td>&lt;pfasst_py.parse_log.LogParserSet object at 0x...</td>\n",
       "    </tr>\n",
       "    <tr>\n",
       "      <th>2</th>\n",
       "      <td>4</td>\n",
       "      <td>368181a4fe82db157911844b3d21a57c26f7be95</td>\n",
       "      <td>00:03:57.000244</td>\n",
       "      <td>4</td>\n",
       "      <td>&lt;pfasst_py.parse_log.LogParserSet object at 0x...</td>\n",
       "    </tr>\n",
       "    <tr>\n",
       "      <th>3</th>\n",
       "      <td>8</td>\n",
       "      <td>f7437c9406e0911e9e42d853ce337be1f017766f</td>\n",
       "      <td>00:09:23.999518</td>\n",
       "      <td>8</td>\n",
       "      <td>&lt;pfasst_py.parse_log.LogParserSet object at 0x...</td>\n",
       "    </tr>\n",
       "    <tr>\n",
       "      <th>4</th>\n",
       "      <td>16</td>\n",
       "      <td>afeeea92001ab4e9cd6b2650bff38aff409665ce</td>\n",
       "      <td>00:13:08.999942</td>\n",
       "      <td>16</td>\n",
       "      <td>&lt;pfasst_py.parse_log.LogParserSet object at 0x...</td>\n",
       "    </tr>\n",
       "    <tr>\n",
       "      <th>6</th>\n",
       "      <td>16</td>\n",
       "      <td>82450145aaed730a798b39420893dd0c0fc6635d</td>\n",
       "      <td>00:07:08.000478</td>\n",
       "      <td>32</td>\n",
       "      <td>&lt;pfasst_py.parse_log.LogParserSet object at 0x...</td>\n",
       "    </tr>\n",
       "    <tr>\n",
       "      <th>8</th>\n",
       "      <td>16</td>\n",
       "      <td>bf6e248ce766ebceab00bb260e6ffb10183a0a4d</td>\n",
       "      <td>00:03:25.000197</td>\n",
       "      <td>64</td>\n",
       "      <td>&lt;pfasst_py.parse_log.LogParserSet object at 0x...</td>\n",
       "    </tr>\n",
       "    <tr>\n",
       "      <th>5</th>\n",
       "      <td>16</td>\n",
       "      <td>46fff803cd56164355386c159fb82bcf7f715ba2</td>\n",
       "      <td>00:01:41.999143</td>\n",
       "      <td>128</td>\n",
       "      <td>&lt;pfasst_py.parse_log.LogParserSet object at 0x...</td>\n",
       "    </tr>\n",
       "    <tr>\n",
       "      <th>9</th>\n",
       "      <td>16</td>\n",
       "      <td>eada6df2e42604069f18fe4fe0ba3047d1392b50</td>\n",
       "      <td>00:01:07.000021</td>\n",
       "      <td>256</td>\n",
       "      <td>&lt;pfasst_py.parse_log.LogParserSet object at 0x...</td>\n",
       "    </tr>\n",
       "    <tr>\n",
       "      <th>7</th>\n",
       "      <td>16</td>\n",
       "      <td>b3d5fecb3fc7460429fc548a688c2876f8ad3e95</td>\n",
       "      <td>00:01:05.999900</td>\n",
       "      <td>512</td>\n",
       "      <td>&lt;pfasst_py.parse_log.LogParserSet object at 0x...</td>\n",
       "    </tr>\n",
       "  </tbody>\n",
       "</table>\n",
       "</div>"
      ],
      "text/plain": [
       "   cpn                                       dir        duration   np  \\\n",
       "0    1  25630ea9d9d6e7e0005151046ac44f5a3bef9742 00:14:51.999490    1   \n",
       "1    2  c6f10c0610f7d4d4b3bbef4c9c9903c1bdff0505 00:06:07.000538    2   \n",
       "2    4  368181a4fe82db157911844b3d21a57c26f7be95 00:03:57.000244    4   \n",
       "3    8  f7437c9406e0911e9e42d853ce337be1f017766f 00:09:23.999518    8   \n",
       "4   16  afeeea92001ab4e9cd6b2650bff38aff409665ce 00:13:08.999942   16   \n",
       "6   16  82450145aaed730a798b39420893dd0c0fc6635d 00:07:08.000478   32   \n",
       "8   16  bf6e248ce766ebceab00bb260e6ffb10183a0a4d 00:03:25.000197   64   \n",
       "5   16  46fff803cd56164355386c159fb82bcf7f715ba2 00:01:41.999143  128   \n",
       "9   16  eada6df2e42604069f18fe4fe0ba3047d1392b50 00:01:07.000021  256   \n",
       "7   16  b3d5fecb3fc7460429fc548a688c2876f8ad3e95 00:01:05.999900  512   \n",
       "\n",
       "                                          parser_set  \n",
       "0  <pfasst_py.parse_log.LogParserSet object at 0x...  \n",
       "1  <pfasst_py.parse_log.LogParserSet object at 0x...  \n",
       "2  <pfasst_py.parse_log.LogParserSet object at 0x...  \n",
       "3  <pfasst_py.parse_log.LogParserSet object at 0x...  \n",
       "4  <pfasst_py.parse_log.LogParserSet object at 0x...  \n",
       "6  <pfasst_py.parse_log.LogParserSet object at 0x...  \n",
       "8  <pfasst_py.parse_log.LogParserSet object at 0x...  \n",
       "5  <pfasst_py.parse_log.LogParserSet object at 0x...  \n",
       "9  <pfasst_py.parse_log.LogParserSet object at 0x...  \n",
       "7  <pfasst_py.parse_log.LogParserSet object at 0x...  "
      ]
     },
     "execution_count": 4,
     "metadata": {},
     "output_type": "execute_result"
    }
   ],
   "source": [
    "obj.as_dataframe(drop=False).sort('np')"
   ]
  },
  {
   "cell_type": "code",
   "execution_count": 20,
   "metadata": {
    "collapsed": false
   },
   "outputs": [],
   "source": [
    "ds = obj.as_dataframe(False)\n",
    "ds['max_iter'] = 0\n",
    "ds['residual'] = 0"
   ]
  },
  {
   "cell_type": "code",
   "execution_count": 24,
   "metadata": {
    "collapsed": false
   },
   "outputs": [
    {
     "name": "stdout",
     "output_type": "stream",
     "text": [
      "       error  iter  n1    n2  rank      residual  step            time\n",
      "4004  1.0158     2   5  2048     0  8.558600e-11   513 00:14:51.999490\n",
      "0: iter=2, residual=0.000000\n",
      "       error  iter  n1    n2  rank      residual  step            time\n",
      "4109  1.0159     0   3  1024     1  1.054500e-10   512 00:06:07.000538\n",
      "1: iter=0, residual=0.000000\n",
      "       error  iter  n1    n2  rank      residual  step            time\n",
      "5361  1.0159     2   3  1024     3  8.552000e-09   512 00:03:57.000244\n",
      "2: iter=2, residual=0.000000\n",
      "        error  iter  n1    n2  rank      residual  step            time\n",
      "12845  1.0159    10   3  1024     7  3.343300e-09   512 00:09:23.999518\n",
      "3: iter=10, residual=0.000000\n",
      "        error  iter  n1    n2  rank      residual  step            time\n",
      "36354  1.0159    49   3  1024    15  9.986700e-10   512 00:13:08.999942\n",
      "4: iter=49, residual=0.000000\n",
      "        error  iter  n1    n2  rank      residual  step            time\n",
      "74111  1.0159    49   3  1024   127  2.634100e-08   512 00:01:41.999143\n",
      "5: iter=49, residual=0.000000\n",
      "        error  iter  n1    n2  rank  residual  step            time\n",
      "60938  1.0239    49   3  1024    31   0.64937   512 00:07:08.000478\n",
      "6: iter=49, residual=0.649370\n",
      "         error  iter  n1    n2  rank      residual  step            time\n",
      "278468  1.0159    14   3  1024   511  1.178000e-08   512 00:01:05.999900\n",
      "7: iter=14, residual=0.000000\n",
      "        error  iter  n1    n2  rank  residual  step            time\n",
      "62514  1.0159    49   3  1024    63  0.000379   512 00:03:25.000197\n",
      "8: iter=49, residual=0.000379\n",
      "         error  iter  n1    n2  rank      residual  step            time\n",
      "140430  1.0159     5   3  1024   255  6.006900e-09   512 00:01:07.000021\n",
      "9: iter=5, residual=0.000000\n"
     ]
    }
   ],
   "source": [
    "for i in ds.index:\n",
    "    df = ds.iloc[i].parser_set.get_dataframe()\n",
    "    print(df.tail(1))\n",
    "    max_iter = df.tail(1).iter.values[0]\n",
    "    residual = df.tail(1).residual.values[0]\n",
    "    print(\"%d: iter=%d, residual=%f\" % (i, max_iter, residual))"
   ]
  },
  {
   "cell_type": "code",
   "execution_count": 25,
   "metadata": {
    "collapsed": false
   },
   "outputs": [
    {
     "data": {
      "text/html": [
       "<div style=\"max-height:1000px;max-width:1500px;overflow:auto;\">\n",
       "<table border=\"1\" class=\"dataframe\">\n",
       "  <thead>\n",
       "    <tr style=\"text-align: right;\">\n",
       "      <th></th>\n",
       "      <th>cpn</th>\n",
       "      <th>dir</th>\n",
       "      <th>duration</th>\n",
       "      <th>np</th>\n",
       "      <th>parser_set</th>\n",
       "      <th>max_iter</th>\n",
       "      <th>residual</th>\n",
       "    </tr>\n",
       "  </thead>\n",
       "  <tbody>\n",
       "    <tr>\n",
       "      <th>0</th>\n",
       "      <td>1</td>\n",
       "      <td>25630ea9d9d6e7e0005151046ac44f5a3bef9742</td>\n",
       "      <td>00:14:51.999490</td>\n",
       "      <td>1</td>\n",
       "      <td>&lt;pfasst_py.parse_log.LogParserSet object at 0x...</td>\n",
       "      <td>2</td>\n",
       "      <td>0</td>\n",
       "    </tr>\n",
       "    <tr>\n",
       "      <th>1</th>\n",
       "      <td>2</td>\n",
       "      <td>c6f10c0610f7d4d4b3bbef4c9c9903c1bdff0505</td>\n",
       "      <td>00:06:07.000538</td>\n",
       "      <td>2</td>\n",
       "      <td>&lt;pfasst_py.parse_log.LogParserSet object at 0x...</td>\n",
       "      <td>0</td>\n",
       "      <td>0</td>\n",
       "    </tr>\n",
       "    <tr>\n",
       "      <th>2</th>\n",
       "      <td>4</td>\n",
       "      <td>368181a4fe82db157911844b3d21a57c26f7be95</td>\n",
       "      <td>00:03:57.000244</td>\n",
       "      <td>4</td>\n",
       "      <td>&lt;pfasst_py.parse_log.LogParserSet object at 0x...</td>\n",
       "      <td>2</td>\n",
       "      <td>0</td>\n",
       "    </tr>\n",
       "    <tr>\n",
       "      <th>3</th>\n",
       "      <td>8</td>\n",
       "      <td>f7437c9406e0911e9e42d853ce337be1f017766f</td>\n",
       "      <td>00:09:23.999518</td>\n",
       "      <td>8</td>\n",
       "      <td>&lt;pfasst_py.parse_log.LogParserSet object at 0x...</td>\n",
       "      <td>10</td>\n",
       "      <td>0</td>\n",
       "    </tr>\n",
       "    <tr>\n",
       "      <th>4</th>\n",
       "      <td>16</td>\n",
       "      <td>afeeea92001ab4e9cd6b2650bff38aff409665ce</td>\n",
       "      <td>00:13:08.999942</td>\n",
       "      <td>16</td>\n",
       "      <td>&lt;pfasst_py.parse_log.LogParserSet object at 0x...</td>\n",
       "      <td>49</td>\n",
       "      <td>0</td>\n",
       "    </tr>\n",
       "    <tr>\n",
       "      <th>6</th>\n",
       "      <td>16</td>\n",
       "      <td>82450145aaed730a798b39420893dd0c0fc6635d</td>\n",
       "      <td>00:07:08.000478</td>\n",
       "      <td>32</td>\n",
       "      <td>&lt;pfasst_py.parse_log.LogParserSet object at 0x...</td>\n",
       "      <td>49</td>\n",
       "      <td>0</td>\n",
       "    </tr>\n",
       "    <tr>\n",
       "      <th>8</th>\n",
       "      <td>16</td>\n",
       "      <td>bf6e248ce766ebceab00bb260e6ffb10183a0a4d</td>\n",
       "      <td>00:03:25.000197</td>\n",
       "      <td>64</td>\n",
       "      <td>&lt;pfasst_py.parse_log.LogParserSet object at 0x...</td>\n",
       "      <td>49</td>\n",
       "      <td>0</td>\n",
       "    </tr>\n",
       "    <tr>\n",
       "      <th>5</th>\n",
       "      <td>16</td>\n",
       "      <td>46fff803cd56164355386c159fb82bcf7f715ba2</td>\n",
       "      <td>00:01:41.999143</td>\n",
       "      <td>128</td>\n",
       "      <td>&lt;pfasst_py.parse_log.LogParserSet object at 0x...</td>\n",
       "      <td>49</td>\n",
       "      <td>0</td>\n",
       "    </tr>\n",
       "    <tr>\n",
       "      <th>9</th>\n",
       "      <td>16</td>\n",
       "      <td>eada6df2e42604069f18fe4fe0ba3047d1392b50</td>\n",
       "      <td>00:01:07.000021</td>\n",
       "      <td>256</td>\n",
       "      <td>&lt;pfasst_py.parse_log.LogParserSet object at 0x...</td>\n",
       "      <td>5</td>\n",
       "      <td>0</td>\n",
       "    </tr>\n",
       "    <tr>\n",
       "      <th>7</th>\n",
       "      <td>16</td>\n",
       "      <td>b3d5fecb3fc7460429fc548a688c2876f8ad3e95</td>\n",
       "      <td>00:01:05.999900</td>\n",
       "      <td>512</td>\n",
       "      <td>&lt;pfasst_py.parse_log.LogParserSet object at 0x...</td>\n",
       "      <td>14</td>\n",
       "      <td>0</td>\n",
       "    </tr>\n",
       "  </tbody>\n",
       "</table>\n",
       "</div>"
      ],
      "text/plain": [
       "   cpn                                       dir        duration   np  \\\n",
       "0    1  25630ea9d9d6e7e0005151046ac44f5a3bef9742 00:14:51.999490    1   \n",
       "1    2  c6f10c0610f7d4d4b3bbef4c9c9903c1bdff0505 00:06:07.000538    2   \n",
       "2    4  368181a4fe82db157911844b3d21a57c26f7be95 00:03:57.000244    4   \n",
       "3    8  f7437c9406e0911e9e42d853ce337be1f017766f 00:09:23.999518    8   \n",
       "4   16  afeeea92001ab4e9cd6b2650bff38aff409665ce 00:13:08.999942   16   \n",
       "6   16  82450145aaed730a798b39420893dd0c0fc6635d 00:07:08.000478   32   \n",
       "8   16  bf6e248ce766ebceab00bb260e6ffb10183a0a4d 00:03:25.000197   64   \n",
       "5   16  46fff803cd56164355386c159fb82bcf7f715ba2 00:01:41.999143  128   \n",
       "9   16  eada6df2e42604069f18fe4fe0ba3047d1392b50 00:01:07.000021  256   \n",
       "7   16  b3d5fecb3fc7460429fc548a688c2876f8ad3e95 00:01:05.999900  512   \n",
       "\n",
       "                                          parser_set  max_iter  residual  \n",
       "0  <pfasst_py.parse_log.LogParserSet object at 0x...         2         0  \n",
       "1  <pfasst_py.parse_log.LogParserSet object at 0x...         0         0  \n",
       "2  <pfasst_py.parse_log.LogParserSet object at 0x...         2         0  \n",
       "3  <pfasst_py.parse_log.LogParserSet object at 0x...        10         0  \n",
       "4  <pfasst_py.parse_log.LogParserSet object at 0x...        49         0  \n",
       "6  <pfasst_py.parse_log.LogParserSet object at 0x...        49         0  \n",
       "8  <pfasst_py.parse_log.LogParserSet object at 0x...        49         0  \n",
       "5  <pfasst_py.parse_log.LogParserSet object at 0x...        49         0  \n",
       "9  <pfasst_py.parse_log.LogParserSet object at 0x...         5         0  \n",
       "7  <pfasst_py.parse_log.LogParserSet object at 0x...        14         0  "
      ]
     },
     "execution_count": 25,
     "metadata": {},
     "output_type": "execute_result"
    }
   ],
   "source": [
    "ds.sort('np')"
   ]
  },
  {
   "cell_type": "code",
   "execution_count": null,
   "metadata": {
    "collapsed": true
   },
   "outputs": [],
   "source": []
  }
 ],
 "metadata": {
  "kernelspec": {
   "display_name": "Python 3",
   "language": "python",
   "name": "python3"
  },
  "language_info": {
   "codemirror_mode": {
    "name": "ipython",
    "version": 3
   },
   "file_extension": ".py",
   "mimetype": "text/x-python",
   "name": "python",
   "nbconvert_exporter": "python",
   "pygments_lexer": "ipython3",
   "version": "3.4.2"
  }
 },
 "nbformat": 4,
 "nbformat_minor": 0
}
