{
 "cells": [
  {
   "cell_type": "code",
   "execution_count": 1,
   "metadata": {
    "collapsed": false
   },
   "outputs": [
    {
     "name": "stdout",
     "output_type": "stream",
     "text": [
      "Populating the interactive namespace from numpy and matplotlib\n"
     ]
    }
   ],
   "source": [
    "import sys\n",
    "import os\n",
    "%pylab inline\n",
    "PFASST_TOOLS_PATH = os.path.abspath(os.getcwd() + \"/../../tools\")\n",
    "sys.path.append(PFASST_TOOLS_PATH)\n",
    "import pandas as pd\n",
    "import pfasst_py"
   ]
  },
  {
   "cell_type": "code",
   "execution_count": 2,
   "metadata": {
    "collapsed": true
   },
   "outputs": [],
   "source": [
    "base_path = pfasst_py.PFASST_RUN_DIR + \"/boris/pfasst/space_scale\""
   ]
  },
  {
   "cell_type": "code",
   "execution_count": 3,
   "metadata": {
    "collapsed": false
   },
   "outputs": [
    {
     "name": "stdout",
     "output_type": "stream",
     "text": [
      "gathering in base path '/home/t.klatt/projects/PFASST/run/boris/pfasst/space_scale/boris_space_scale'\n",
      "  - 4e19edb2535f85c8fadb4e0d518ad0ccd048005e\n",
      "      nparticles: 1024\n",
      "      np        : 1\n",
      "      npn       : 1\n",
      "      duration  : 0 days 00:00:58.003729\n",
      "  - 99520af828626960740a2fc74086a0bca43fa637\n",
      "      nparticles: 1024\n",
      "      np        : 2\n",
      "      npn       : 1\n",
      "      duration  : 0 days 00:00:29.001981\n",
      "  - d0a08dcdfb0b50a6c009275fb6eca47a73a1130f\n",
      "      nparticles: 1024\n",
      "      np        : 4\n",
      "      npn       : 1\n",
      "      duration  : 0 days 00:00:14.004817\n",
      "  - 8af53fc964dd89ef80df423c3e1a7070402b007e\n",
      "      nparticles: 1024\n",
      "      np        : 8\n",
      "      npn       : 1\n",
      "      duration  : 0 days 00:00:07.003362\n",
      "  - e298c5a52e6caede8fffbfb1cf76118e8c34128c\n",
      "      nparticles: 1024\n",
      "      np        : 16\n",
      "      npn       : 1\n",
      "      duration  : 0 days 00:00:03.998190\n",
      "  - e7389a47335f1174d45a80d06c9a06ef13fe06ba\n",
      "      nparticles: 1024\n",
      "      np        : 32\n",
      "      npn       : 1\n",
      "      duration  : 0 days 00:00:02.000997\n",
      "  - 5bd63e5be6733de392f529b94c7ca412a80bf7c4\n",
      "      nparticles: 1024\n",
      "      np        : 64\n",
      "      npn       : 1\n",
      "      duration  : 0 days 00:00:01.003972\n",
      "  - 0f76b50492b34e9a0e0834ff0e3017409ddf5970\n",
      "      nparticles: 1024\n",
      "      np        : 512\n",
      "      npn       : 16\n",
      "      duration  : 0 days 00:00:02.006481\n",
      "  - 3316bd4c0d8fec905a6b3f05f0dd436b60a534b7\n",
      "      nparticles: 1024\n",
      "      np        : 128\n",
      "      npn       : 16\n",
      "      duration  : 0 days 00:00:02.998751\n",
      "  - 4ead3c2d99263630b0308653cb9c99d37d514ea4\n",
      "      nparticles: 1024\n",
      "      np        : 256\n",
      "      npn       : 16\n",
      "      duration  : 0 days 00:00:02.002673\n",
      "  - 7924540f77e68908262d6b83d2e00db059a33af3\n",
      "      nparticles: 1024\n",
      "      np        : 1024\n",
      "      npn       : 16\n",
      "      duration  : 0 days 00:00:04.993890\n",
      "pickling into: '/home/t.klatt/projects/PFASST/run/boris/pfasst/space_scale/boris_space_scale/../nparticles1024.pickle'\n"
     ]
    }
   ],
   "source": [
    "pfasst_py.ScaleStudy(base_path + '/boris_space_scale',\n",
    "                     pfasst_py.BorisDataPattern,\n",
    "                     attach={'nparticles': 1024}).gather().pickle('../nparticles1024')"
   ]
  },
  {
   "cell_type": "code",
   "execution_count": 4,
   "metadata": {
    "collapsed": false
   },
   "outputs": [
    {
     "name": "stdout",
     "output_type": "stream",
     "text": [
      "load pickle from: '/home/t.klatt/projects/PFASST/run/boris/pfasst/space_scale/nparticles2048.pickle'\n",
      "          duration    np  nparticles  npn\n",
      "0  00:03:15.002639     1        2048    1\n",
      "1  00:01:37.998367     2        2048    1\n",
      "2  00:00:48.997299     4        2048    1\n",
      "3  00:00:24.002212     8        2048    1\n",
      "4  00:00:12.003052    16        2048    1\n",
      "5  00:00:06.003990    32        2048    1\n",
      "6  00:00:03.005424    64        2048    1\n",
      "8  00:00:05.006267   128        2048   16\n",
      "10 00:00:03.998139   256        2048   16\n",
      "9  00:00:03.992841   512        2048   16\n",
      "7  00:00:04.995529  1024        2048   16\n",
      "load pickle from: '/home/t.klatt/projects/PFASST/run/boris/pfasst/space_scale/nparticles1024.pickle'\n",
      "          duration    np  nparticles  npn\n",
      "0  00:00:58.003729     1        1024    1\n",
      "1  00:00:29.001981     2        1024    1\n",
      "2  00:00:14.004817     4        1024    1\n",
      "3  00:00:07.003362     8        1024    1\n",
      "4  00:00:03.998190    16        1024    1\n",
      "5  00:00:02.000997    32        1024    1\n",
      "6  00:00:01.003972    64        1024    1\n",
      "8  00:00:02.998751   128        1024   16\n",
      "9  00:00:02.002673   256        1024   16\n",
      "7  00:00:02.006481   512        1024   16\n",
      "10 00:00:04.993890  1024        1024   16\n"
     ]
    },
    {
     "data": {
      "image/png": "[encoded data removed]",
      "text/plain": [
       "<matplotlib.figure.Figure at 0x7f130d6f22b0>"
      ]
     },
     "metadata": {},
     "output_type": "display_data"
    },
    {
     "data": {
      "image/png": "[encoded data removed]",
      "text/plain": [
       "<matplotlib.figure.Figure at 0x7f130f559588>"
      ]
     },
     "metadata": {},
     "output_type": "display_data"
    }
   ],
   "source": [
    "pfasst_py.ScaleStudy.from_pickle(base_path + '/nparticles2048.pickle').plot_np_vs_duration()\n",
    "pfasst_py.ScaleStudy.from_pickle(base_path + '/nparticles1024.pickle').plot_np_vs_duration()"
   ]
  },
  {
   "cell_type": "code",
   "execution_count": null,
   "metadata": {
    "collapsed": true
   },
   "outputs": [],
   "source": []
  }
 ],
 "metadata": {
  "kernelspec": {
   "display_name": "Python 3",
   "language": "python",
   "name": "python3"
  },
  "language_info": {
   "codemirror_mode": {
    "name": "ipython",
    "version": 3
   },
   "file_extension": ".py",
   "mimetype": "text/x-python",
   "name": "python",
   "nbconvert_exporter": "python",
   "pygments_lexer": "ipython3",
   "version": "3.4.2"
  }
 },
 "nbformat": 4,
 "nbformat_minor": 0
}
