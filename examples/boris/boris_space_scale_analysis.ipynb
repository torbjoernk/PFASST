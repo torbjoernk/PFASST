{
 "cells": [
  {
   "cell_type": "code",
   "execution_count": 1,
   "metadata": {
    "collapsed": false
   },
   "outputs": [
    {
     "name": "stdout",
     "output_type": "stream",
     "text": [
      "Populating the interactive namespace from numpy and matplotlib\n"
     ]
    }
   ],
   "source": [
    "import sys\n",
    "import os\n",
    "%pylab inline\n",
    "PFASST_TOOLS_PATH = os.path.abspath(os.getcwd() + \"/../../tools\")\n",
    "sys.path.append(PFASST_TOOLS_PATH)\n",
    "import pandas as pd\n",
    "import pfasst_py\n",
    "base_path = pfasst_py.PFASST_RUN_DIR + \"/boris/pfasst/space_scale\""
   ]
  },
  {
   "cell_type": "code",
   "execution_count": 3,
   "metadata": {
    "collapsed": true
   },
   "outputs": [
    {
     "name": "stdout",
     "output_type": "stream",
     "text": [
      "gathering in base path '/home/t.klatt/projects/PFASST/run/boris/pfasst/space_scale/boris_space_scale_2k'\n",
      "  - 2ad639aa759f7ba399604f72e5640445ad4fe909\n",
      "      nparticles: 2048\n",
      "      np        : 1\n",
      "      cpn       : 1\n",
      "      duration  : 0 days 00:03:15.992322\n",
      "  - 05febba9c66fe8a83c0155f6d64185202821f016\n",
      "      nparticles: 2048\n",
      "      np        : 2\n",
      "      cpn       : 2\n",
      "      duration  : 0 days 00:01:44.997435\n",
      "  - bbcfd065feec332ea9224b5907f4c069c53a5e07\n",
      "      nparticles: 2048\n",
      "      np        : 4\n",
      "      cpn       : 4\n",
      "      duration  : 0 days 00:01:05.001333\n",
      "  - 9740e6b5b76552edd6ea6b32c30f2ae54bc957c3\n",
      "      nparticles: 2048\n",
      "      np        : 8\n",
      "      cpn       : 8\n",
      "      duration  : 0 days 00:00:44.997687\n",
      "  - 9a63ac8905d40f66fc8a3b3ac081eb9490ddde62\n",
      "      nparticles: 2048\n",
      "      np        : 16\n",
      "      cpn       : 16\n",
      "      duration  : 0 days 00:00:36.990839\n",
      "  - 0ac8baf42cbad81d26cc63a2d81a3e9eca1f1c3f\n",
      "      nparticles: 2048\n",
      "      np        : 1024\n",
      "      cpn       : 16\n",
      "      duration  : 0 days 00:00:04.002963\n",
      "  - 211c6e0b280fa7a11c8d45757c67ee7ebb9e5217\n",
      "      nparticles: 2048\n",
      "      np        : 32\n",
      "      cpn       : 16\n",
      "      duration  : 0 days 00:00:18.001231\n",
      "  - 263d0f60f5ed94341ae0782e1a1b095ad735ca37\n",
      "      nparticles: 2048\n",
      "      np        : 128\n",
      "      cpn       : 16\n",
      "      duration  : 0 days 00:00:05.995371\n",
      "  - 5c76ae296cbe9c09cd668d7bbf2d7592c86e342e\n",
      "      nparticles: 2048\n",
      "      np        : 512\n",
      "      cpn       : 16\n",
      "      duration  : 0 days 00:00:03.001736\n",
      "  - 6ae919da64f7332c435b60b295e677ddfa260039\n",
      "      nparticles: 2048\n",
      "      np        : 64\n",
      "      cpn       : 16\n",
      "      duration  : 0 days 00:00:09.996621\n",
      "  - 935a9cce66e10aeb7f415717d9ca194004adfdb6\n",
      "      nparticles: 2048\n",
      "      np        : 256\n",
      "      cpn       : 16\n",
      "      duration  : 0 days 00:00:03.007833\n",
      "pickling into: '/home/t.klatt/projects/PFASST/run/boris/pfasst/space_scale/boris_space_scale_2k/../cpn1-16_particles2048.pickle'\n"
     ]
    }
   ],
   "source": [
    "pfasst_py.ScaleStudy(base_path + '/boris_space_scale_2k',\n",
    "                     pfasst_py.BorisDataPattern,\n",
    "                     attach={'nparticles': 2048}).gather().pickle('../cpn1-16_particles2048')"
   ]
  },
  {
   "cell_type": "code",
   "execution_count": 2,
   "metadata": {
    "collapsed": false
   },
   "outputs": [
    {
     "name": "stdout",
     "output_type": "stream",
     "text": [
      "load pickle from: '/home/t.klatt/projects/PFASST/run/boris/pfasst/space_scale/cpn1-16_particles2048.pickle'\n",
      "    cpn        duration    np  nparticles\n",
      "0     1 00:03:15.992322     1        2048\n",
      "1     2 00:01:44.997435     2        2048\n",
      "2     4 00:01:05.001333     4        2048\n",
      "3     8 00:00:44.997687     8        2048\n",
      "4    16 00:00:36.990839    16        2048\n",
      "6    16 00:00:18.001231    32        2048\n",
      "9    16 00:00:09.996621    64        2048\n",
      "7    16 00:00:05.995371   128        2048\n",
      "10   16 00:00:03.007833   256        2048\n",
      "8    16 00:00:03.001736   512        2048\n",
      "5    16 00:00:04.002963  1024        2048\n",
      "load pickle from: '/home/t.klatt/projects/PFASST/run/boris/pfasst/space_scale/cpn1-8_particles2048.pickle'\n",
      "    cpn        duration    np  nparticles\n",
      "0     1 00:03:15.996786     1        2048\n",
      "1     2 00:01:44.008626     2        2048\n",
      "2     4 00:01:05.000043     4        2048\n",
      "3     8 00:00:45.003700     8        2048\n",
      "8     8 00:00:22.993785    16        2048\n",
      "10    8 00:00:11.006007    32        2048\n",
      "5     8 00:00:06.001983    64        2048\n",
      "6     8 00:00:03.999246   128        2048\n",
      "7     8 00:00:02.998449   256        2048\n",
      "4     8 00:00:02.995739   512        2048\n",
      "9     8 00:00:06.000442  1024        2048\n"
     ]
    },
    {
     "data": {
      "image/png": "[encoded data removed]",
      "text/plain": [
       "<matplotlib.figure.Figure at 0x7ffaa5f35898>"
      ]
     },
     "metadata": {},
     "output_type": "display_data"
    },
    {
     "data": {
      "image/png": "[encoded data removed]",
      "text/plain": [
       "<matplotlib.figure.Figure at 0x7ffa868e9358>"
      ]
     },
     "metadata": {},
     "output_type": "display_data"
    }
   ],
   "source": [
    "pfasst_py.ScaleStudy.from_pickle(base_path + '/cpn1-16_particles2048.pickle').plot_np_vs_duration()\n",
    "pfasst_py.ScaleStudy.from_pickle(base_path + '/cpn1-8_particles2048.pickle').plot_np_vs_duration()"
   ]
  },
  {
   "cell_type": "code",
   "execution_count": null,
   "metadata": {
    "collapsed": true
   },
   "outputs": [],
   "source": []
  }
 ],
 "metadata": {
  "kernelspec": {
   "display_name": "Python 3",
   "language": "python",
   "name": "python3"
  },
  "language_info": {
   "codemirror_mode": {
    "name": "ipython",
    "version": 3
   },
   "file_extension": ".py",
   "mimetype": "text/x-python",
   "name": "python",
   "nbconvert_exporter": "python",
   "pygments_lexer": "ipython3",
   "version": "3.4.2"
  }
 },
 "nbformat": 4,
 "nbformat_minor": 0
}
